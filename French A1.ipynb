{
 "cells": [
  {
   "cell_type": "code",
   "execution_count": 5,
   "metadata": {},
   "outputs": [],
   "source": [
    "#Importar dependencias\n",
    "import gtts\n",
    "from gtts import gTTS\n",
    "import os\n",
    "import pandas as pd\n",
    "from pandas import ExcelWriter\n",
    "from pandas import ExcelFile\n",
    "\n",
    "#Definir constantes\n",
    "\n",
    "question_fr = \"Wie heißt du?\"\n",
    "language = 'fr'\n",
    "pregunta_audio = gTTS(text = question_fr, lang = language, slow = False)\n",
    "\n",
    "#Extraer base de datos de preguntas\n",
    "\n",
    "df = pd.read_excel('Idiomas.xlsx', sheetname = 'A1')\n",
    "\n",
    "#Extraer preguntas en español\n",
    "\n",
    "francais_a1 = df['Français']\n",
    "\n",
    "#Crear lista vacía de preguntas\n",
    "\n",
    "questions_fr_a1 = []\n",
    "\n",
    "#Iterar sobre cada pregunta pregunta y agregarla a la lista de preguntas A1\n",
    "\n",
    "for i in francais_a1.index:\n",
    "    questions_fr_a1.append(francais_a1[i])"
   ]
  },
  {
   "cell_type": "code",
   "execution_count": 6,
   "metadata": {},
   "outputs": [
    {
     "data": {
      "text/plain": [
       "[\"Comment tu t'appelles?\",\n",
       " \"Comment s'écrit ça? / Comment est il ortographié?\",\n",
       " \"D'où viens tu?\",\n",
       " 'Où est-ce que tu habites?',\n",
       " 'Quelle est ta nationalité?',\n",
       " 'Quel est ton numero de teléphone?',\n",
       " \"Comment s'appelle ton mieux ami/amie?\",\n",
       " 'Est-ce que tu aime bien ta ville?',\n",
       " 'Combien de personnes habitent dans ta ville?',\n",
       " \"Qu'est-ce qu'il-y-a dans ta ville?\",\n",
       " 'Quelles sont tes possessions favorites?',\n",
       " 'Quelle est ta couleur favorite?',\n",
       " 'Quelle est ton show de television favorit?',\n",
       " 'Quelle âge as tu?',\n",
       " 'Est-ce que tu as frêres et soeurs?',\n",
       " \"Comment s'appelle ton pêre et ta mêre?\",\n",
       " 'Quelle âge ont les personnes dans ta famille?',\n",
       " 'Quelle est ta profession?',\n",
       " 'Où est-ce que tu travailles',\n",
       " 'Comment arrives tu aux boulot?',\n",
       " \"Quelle heure tu t'êleves?\",\n",
       " \"Est-ce que tu te baignes au matin ou à l'après midi?\",\n",
       " 'Il-y-a un code vestimentaire aux travail?',\n",
       " \"Combien de temps as tu besoin pour t'habiller?\",\n",
       " 'Quelle heure tu manger le petit-dejuner?',\n",
       " \"Qu'est-ce que tu fais aux boulot?\",\n",
       " \"Qu'est ce que tu fais maintenaint aux boulot?\",\n",
       " \"Qu'est ce que tu fais sur ton temps libre?\",\n",
       " \"Qu'est ce tu fais avant de dormir?\",\n",
       " 'Quelle heure vas tu au lit?']"
      ]
     },
     "execution_count": 6,
     "metadata": {},
     "output_type": "execute_result"
    }
   ],
   "source": [
    "questions_fr_a1"
   ]
  },
  {
   "cell_type": "code",
   "execution_count": 8,
   "metadata": {},
   "outputs": [],
   "source": [
    "question_fr_numero = 0\n",
    "for question_fr in questions_fr_a1:\n",
    "    question_fr = question_fr\n",
    "    question_fr_audio = gTTS(text = question_fr, lang = language, slow = False)\n",
    "    question_fr_audio.save('question_fr_'+str(question_fr_numero)+\".mp3\")\n",
    "    question_fr_numero += 1"
   ]
  },
  {
   "cell_type": "code",
   "execution_count": null,
   "metadata": {
    "collapsed": true
   },
   "outputs": [],
   "source": []
  }
 ],
 "metadata": {
  "kernelspec": {
   "display_name": "Python 3",
   "language": "python",
   "name": "python3"
  },
  "language_info": {
   "codemirror_mode": {
    "name": "ipython",
    "version": 3
   },
   "file_extension": ".py",
   "mimetype": "text/x-python",
   "name": "python",
   "nbconvert_exporter": "python",
   "pygments_lexer": "ipython3",
   "version": "3.6.3"
  }
 },
 "nbformat": 4,
 "nbformat_minor": 2
}
