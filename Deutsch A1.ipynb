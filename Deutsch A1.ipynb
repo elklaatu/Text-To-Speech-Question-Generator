{
 "cells": [
  {
   "cell_type": "code",
   "execution_count": 2,
   "metadata": {},
   "outputs": [],
   "source": [
    "#Importar dependencias\n",
    "import gtts\n",
    "from gtts import gTTS\n",
    "import os\n",
    "import pandas as pd\n",
    "from pandas import ExcelWriter\n",
    "from pandas import ExcelFile\n",
    "\n",
    "#Definir constantes\n",
    "\n",
    "fragen = \"Wie heißt du?\"\n",
    "language = 'de'\n",
    "pregunta_audio = gTTS(text = fragen, lang = language, slow = False)\n",
    "\n",
    "#Extraer base de datos de preguntas\n",
    "df = pd.read_excel('Idiomas.xlsx', sheet_name = 'A1')\n",
    "\n",
    "#Extraer preguntas en español\n",
    "\n",
    "deutsch_a1 = df['Deutsch']\n",
    "\n",
    "#Crear lista vacía de preguntas\n",
    "\n",
    "fragen_a1 = []\n",
    "\n",
    "#Iterar sobre cada pregunta pregunta y agregarla a la lista de preguntas A1\n",
    "\n",
    "for i in deutsch_a1.index:\n",
    "    fragen_a1.append(deutsch_a1[i])"
   ]
  },
  {
   "cell_type": "code",
   "execution_count": 3,
   "metadata": {},
   "outputs": [
    {
     "data": {
      "text/plain": [
       "['Wie heißt du?',\n",
       " 'Wie buchstabiert man das?',\n",
       " 'Woher kommst du?',\n",
       " 'Wo wohnst du?',\n",
       " 'Ist das eine Stadt oder ein kleines Dorf?',\n",
       " nan,\n",
       " nan,\n",
       " nan,\n",
       " nan,\n",
       " nan,\n",
       " nan,\n",
       " nan,\n",
       " 'Woher stammst du?',\n",
       " nan,\n",
       " nan,\n",
       " nan,\n",
       " nan,\n",
       " nan,\n",
       " nan,\n",
       " nan,\n",
       " 'Wie ist deine Telefonnummer?',\n",
       " 'Wie heißt dein bester Freund oder deine beste Freundin?',\n",
       " 'Wo is er oder sie her?',\n",
       " nan,\n",
       " nan,\n",
       " nan,\n",
       " nan,\n",
       " nan,\n",
       " nan,\n",
       " nan,\n",
       " nan,\n",
       " 'Gefällt dir deine Stadt?',\n",
       " 'Wie viele Leute wohnen in deiner Stadt?',\n",
       " 'Was gibt es in deiner Stadt?',\n",
       " 'Welche sind deine Lieblingssachen?',\n",
       " 'Was ist deine Lieblingsfarbe?',\n",
       " 'Was ist deine Lieblingsshow?',\n",
       " 'Wie alt bist du?',\n",
       " 'Hast du Geschwister?',\n",
       " 'Wie viele Geschwister hast du?',\n",
       " 'Wie heißt deine Mutter?',\n",
       " 'Wie heißt dein Vater?',\n",
       " 'Wie alt sind die Leute in deiner Familie?',\n",
       " nan,\n",
       " nan,\n",
       " nan,\n",
       " nan,\n",
       " 'Was bist du von Beruf? Was machst du beruflich?',\n",
       " 'Wo arbeitest du?',\n",
       " 'Wie fährst du zur Arbeit?',\n",
       " 'Um wie viel Uhr wachst du auf?',\n",
       " 'Duschst du morgens oder abends?',\n",
       " 'Hast du eine Kleideordnung für die Arbeit?',\n",
       " 'Wie lange brauchst du, um dich fertig zu machen?',\n",
       " 'Um wie viel Uhr hast du Frühstück? Was hast du zum Frühstück?',\n",
       " 'Was machst du in der Arbeit?',\n",
       " 'Woran arbeitest du gerade auf Arbeit',\n",
       " 'Was machst du in deiner Freizeit?',\n",
       " 'Was machst du bevor du ins Bett gehst?',\n",
       " 'Um wie viel Uhr gehst du ins Bett?',\n",
       " nan,\n",
       " nan,\n",
       " nan,\n",
       " nan,\n",
       " nan,\n",
       " nan,\n",
       " nan,\n",
       " nan,\n",
       " nan,\n",
       " nan,\n",
       " nan,\n",
       " nan]"
      ]
     },
     "execution_count": 3,
     "metadata": {},
     "output_type": "execute_result"
    }
   ],
   "source": [
    "fragen_a1"
   ]
  },
  {
   "cell_type": "code",
   "execution_count": 3,
   "metadata": {
    "collapsed": true
   },
   "outputs": [],
   "source": [
    "frage_nummer = 0\n",
    "for frage in fragen_a1:\n",
    "    frage = frage\n",
    "    frage_audio = gTTS(text = frage, lang = language, slow = False)\n",
    "    frage_audio.save('frage_'+str(frage_nummer)+\".mp3\")\n",
    "    frage_nummer += 1"
   ]
  },
  {
   "cell_type": "code",
   "execution_count": null,
   "metadata": {
    "collapsed": true
   },
   "outputs": [],
   "source": []
  }
 ],
 "metadata": {
  "kernelspec": {
   "display_name": "Python 3",
   "language": "python",
   "name": "python3"
  },
  "language_info": {
   "codemirror_mode": {
    "name": "ipython",
    "version": 3
   },
   "file_extension": ".py",
   "mimetype": "text/x-python",
   "name": "python",
   "nbconvert_exporter": "python",
   "pygments_lexer": "ipython3",
   "version": "3.8.5"
  }
 },
 "nbformat": 4,
 "nbformat_minor": 2
}
