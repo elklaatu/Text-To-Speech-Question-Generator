{
 "cells": [
  {
   "cell_type": "code",
   "execution_count": null,
   "metadata": {
    "collapsed": true
   },
   "outputs": [],
   "source": [
    "#Importar dependencias\n",
    "import gtts\n",
    "from gtts import gTTS\n",
    "import os\n",
    "import pandas as pd\n",
    "from pandas import ExcelWriter\n",
    "from pandas import ExcelFile\n",
    "\n",
    "#Definir constantes\n",
    "\n",
    "question = \"What's your name?\"\n",
    "language = 'en'\n",
    "pregunta_audio = gTTS(text = question, lang = language, slow = False)"
   ]
  },
  {
   "cell_type": "code",
   "execution_count": 4,
   "metadata": {
    "collapsed": true
   },
   "outputs": [],
   "source": [
    "#Extraer base de datos de preguntas\n",
    "\n",
    "df = pd.read_excel('Idiomas.xlsx', sheetname = 'A1')\n",
    "\n",
    "#Extraer preguntas en español\n",
    "\n",
    "english_a1 = df['English']\n",
    "\n",
    "#Crear lista vacía de preguntas\n",
    "\n",
    "questions_a1 = []\n",
    "\n",
    "#Iterar sobre cada pregunta pregunta y agregarla a la lista de preguntas A1\n",
    "\n",
    "for i in english_a1.index:\n",
    "    questions_a1.append(english_a1[i])"
   ]
  },
  {
   "cell_type": "code",
   "execution_count": 5,
   "metadata": {},
   "outputs": [
    {
     "data": {
      "text/plain": [
       "[\"What's your name?\",\n",
       " 'How do you spell it?',\n",
       " 'Where are you from?',\n",
       " 'Where do you live?',\n",
       " 'Is that a city, a town or a village?',\n",
       " 'What food is there in your country?',\n",
       " 'What do people have for breakfast in your country?',\n",
       " 'Do people prefer tea or coffee?',\n",
       " 'Do they have a big meal for lunch or for breakfast?',\n",
       " 'Do they eat a lot of fruit and vegetables?',\n",
       " 'Do they eat a lot of fast food?',\n",
       " 'Do you like fish?',\n",
       " \"What's your nationality?\",\n",
       " \"What's your native language?\",\n",
       " 'Do you speak any other languages?',\n",
       " 'What languages do you speak?',\n",
       " \"What's your email address?\",\n",
       " 'Do you have a cellphone?',\n",
       " 'Do you have any pets?',\n",
       " 'Which do you have?',\n",
       " \"What's your phone number?\",\n",
       " \"What's your best friend's name?\",\n",
       " \"Where's he from?\",\n",
       " 'Do you like coffee?',\n",
       " 'Do you like tea?',\n",
       " 'Do you like your city?',\n",
       " 'Do you like big cities?',\n",
       " 'Do you like sports?',\n",
       " 'Do you do any sport?',\n",
       " \"What's your favorite sport?\",\n",
       " \"What's your favorite team?\",\n",
       " 'Do you like your village?',\n",
       " 'How many people live in your hometown?',\n",
       " 'What is there in your city?',\n",
       " 'What are your favorite things?',\n",
       " \"What's your favorite color?\",\n",
       " \"What's your favorite TV show?\",\n",
       " 'How old are you?',\n",
       " 'Do you have brothers and sisters?',\n",
       " 'How many siblings do you have?',\n",
       " \"What's your mother's name?\",\n",
       " \"What's your father's name?\",\n",
       " 'How old are people in your family?',\n",
       " 'Are you married?',\n",
       " \"What's your wife's name?\",\n",
       " \"What's your husband's name?\",\n",
       " 'Do you have any children?',\n",
       " 'What do you do?',\n",
       " 'Where do you work?',\n",
       " 'How do you get to work?',\n",
       " 'What time do you wake up?',\n",
       " 'Do you take a shower in the morning or in the afternoon?',\n",
       " 'Do you have a dresscode at work?',\n",
       " 'How long does it take you to get ready?',\n",
       " 'What time do you have breakfast? What do you usually have for breakfast?',\n",
       " 'What do you usually do at work?',\n",
       " 'What are you working on at the moment?',\n",
       " 'What do you do in your free time?',\n",
       " 'What do you do before going to bed?',\n",
       " 'What time do you usually go to bed?',\n",
       " 'Do you listen to pop music?',\n",
       " 'Do you listen to classical music?',\n",
       " \"Who's your favorite singer?\",\n",
       " \"What's your favorite band?\",\n",
       " 'Do you listen to pop music?',\n",
       " 'Do you like watching movies?',\n",
       " \"What's your favorite movie?\",\n",
       " \"Who's your favorite actor?\",\n",
       " \"Who's your favorite actress?\",\n",
       " 'Do you like Mexican food?',\n",
       " 'Do you like cooking?',\n",
       " 'What do you like drinking?']"
      ]
     },
     "execution_count": 5,
     "metadata": {},
     "output_type": "execute_result"
    }
   ],
   "source": [
    "questions_a1"
   ]
  },
  {
   "cell_type": "code",
   "execution_count": null,
   "metadata": {
    "collapsed": true
   },
   "outputs": [],
   "source": [
    "question_number = 0\n",
    "for question in questions_a1:\n",
    "    question = question\n",
    "    question_audio = gTTS(text = question, lang = language, slow = False)\n",
    "    question_audio.save('question_'+str(question_number)+\".mp3\")\n",
    "    question_number += 1"
   ]
  }
 ],
 "metadata": {
  "kernelspec": {
   "display_name": "Python 3",
   "language": "python",
   "name": "python3"
  },
  "language_info": {
   "codemirror_mode": {
    "name": "ipython",
    "version": 3
   },
   "file_extension": ".py",
   "mimetype": "text/x-python",
   "name": "python",
   "nbconvert_exporter": "python",
   "pygments_lexer": "ipython3",
   "version": "3.7.1"
  }
 },
 "nbformat": 4,
 "nbformat_minor": 2
}
