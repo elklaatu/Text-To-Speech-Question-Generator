{
 "cells": [
  {
   "cell_type": "code",
   "execution_count": 14,
   "metadata": {},
   "outputs": [],
   "source": [
    "#Importar dependencias\n",
    "import gtts\n",
    "from gtts import gTTS\n",
    "import os\n",
    "import pandas as pd\n",
    "from pandas import ExcelWriter\n",
    "from pandas import ExcelFile\n",
    "\n",
    "#Definir constantes\n",
    "\n",
    "pregunta = '¿Quién eres'\n",
    "language = 'es'\n",
    "pregunta_audio = gTTS(text = pregunta, lang = language, slow = False)\n",
    "\n",
    "#Extraer base de datos de preguntas\n",
    "\n",
    "df = pd.read_excel('Idiomas.xlsx', sheetname = 'A1')\n",
    "\n",
    "#Extraer preguntas en español\n",
    "\n",
    "español_a1 = df['Español']\n",
    "\n",
    "#Crear lista vacía de preguntas\n",
    "\n",
    "preguntas_a1 = []\n",
    "\n",
    "#Iterar sobre cada pregunta pregunta y agregarla a la lista de preguntas A1\n",
    "\n",
    "for i in español_a1.index:\n",
    "    preguntas_a1.append(español_a1[i])"
   ]
  },
  {
   "cell_type": "code",
   "execution_count": 15,
   "metadata": {},
   "outputs": [
    {
     "data": {
      "text/plain": [
       "0                                      ¿Cómo te llamas?\n",
       "1                                     ¿Cómo se escribe?\n",
       "2                                       ¿De dónde eres?\n",
       "3                                         ¿Dónde vives?\n",
       "4                               ¿Qué nacionalidad eres?\n",
       "5                       ¿Cuál es tu número de teléfono?\n",
       "6                        ¿Cómo se llama tu mejor amigo?\n",
       "7                           ¿Te gusta tu pueblo/ciudad?\n",
       "8               ¿Cuánta gente vive en tu pueblo/ciudad?\n",
       "9             ¿Qué cosas puedes encontrar en tu ciudad?\n",
       "10                     ¿Cuáles son tus cosas favoritas?\n",
       "11                          ¿Cuál es tu color favorito?\n",
       "12         ¿Cuál es tu programa de televisión favorito?\n",
       "13                                ¿Cuántos años tienes?\n",
       "14                          ¿Tienes hermanos? ¿Cuántos?\n",
       "15                    ¿Cómo se llaman tus papás/padres?\n",
       "16                        ¿Qué edades tiene tu familia?\n",
       "17                                   ¿A qué te dedicas?\n",
       "18                                     ¿Dónde trabajas?\n",
       "19                           ¿Cómo llegas a tu trabajo?\n",
       "20                           ¿A qué hora te despiertas?\n",
       "21             ¿Te duchas por la mañana o por la noche?\n",
       "22    ¿Tienen algún código de vestimenta para la ofi...\n",
       "23                  ¿Cuánto tiempo tardas arreglándote?\n",
       "24               ¿A qué hora desayunas? ¿Qué desayunas?\n",
       "25             ¿Qué haces en tu trabajo cotidianamente?\n",
       "26       ¿En qué proyecto estás trabajando actualmente?\n",
       "27                       ¿Qué haces en tu tiempo libre?\n",
       "28                     ¿Qué haces antes de ir a dormir?\n",
       "29               ¿A qué hora vas a la cama normalmente?\n",
       "Name: Español, dtype: object"
      ]
     },
     "execution_count": 15,
     "metadata": {},
     "output_type": "execute_result"
    }
   ],
   "source": [
    "español_a1"
   ]
  },
  {
   "cell_type": "code",
   "execution_count": 26,
   "metadata": {},
   "outputs": [],
   "source": [
    "numero_de_pregunta = 0\n",
    "for pregunta in preguntas_a1:\n",
    "    pregunta = pregunta\n",
    "    pregunta_audio = gTTS(text = pregunta, lang = language, slow = False)\n",
    "    pregunta_audio.save('pregunta_'+str(numero_de_pregunta)+\".mp3\")\n",
    "    numero_de_pregunta += 1"
   ]
  },
  {
   "cell_type": "code",
   "execution_count": null,
   "metadata": {
    "collapsed": true
   },
   "outputs": [],
   "source": []
  }
 ],
 "metadata": {
  "kernelspec": {
   "display_name": "Python 3",
   "language": "python",
   "name": "python3"
  },
  "language_info": {
   "codemirror_mode": {
    "name": "ipython",
    "version": 3
   },
   "file_extension": ".py",
   "mimetype": "text/x-python",
   "name": "python",
   "nbconvert_exporter": "python",
   "pygments_lexer": "ipython3",
   "version": "3.7.1"
  }
 },
 "nbformat": 4,
 "nbformat_minor": 2
}
