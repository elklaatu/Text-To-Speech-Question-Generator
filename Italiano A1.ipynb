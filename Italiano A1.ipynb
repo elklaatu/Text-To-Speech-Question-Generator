{
 "cells": [
  {
   "cell_type": "code",
   "execution_count": 9,
   "metadata": {},
   "outputs": [],
   "source": [
    "#Importar dependencias\n",
    "import gtts\n",
    "from gtts import gTTS\n",
    "import os\n",
    "import pandas as pd\n",
    "from pandas import ExcelWriter\n",
    "from pandas import ExcelFile\n",
    "\n",
    "#Definir constantes\n",
    "\n",
    "domanda = 'Mamma mia'\n",
    "language = 'it'\n",
    "domanda_audio = gTTS(text = domanda, lang = language, slow = False)\n",
    "\n",
    "#Extraer base de datos de preguntas\n",
    "\n",
    "df = pd.read_excel('Idiomas.xlsx', sheetname = 'A1')\n",
    "\n",
    "#Extraer preguntas en español\n",
    "\n",
    "italiano_a1 = df['Italiano']\n",
    "\n",
    "#Crear lista vacía de preguntas\n",
    "\n",
    "domande_a1 = []\n",
    "\n",
    "#Iterar sobre cada pregunta pregunta y agregarla a la lista de preguntas A1\n",
    "\n",
    "for i in italiano_a1.index:\n",
    "    domande_a1.append(italiano_a1[i])"
   ]
  },
  {
   "cell_type": "code",
   "execution_count": 10,
   "metadata": {},
   "outputs": [
    {
     "data": {
      "text/plain": [
       "['Come ti chiami? / Come si chiama?',\n",
       " 'Come si scrive?',\n",
       " 'Da dove vieni? Da dove viene?',\n",
       " 'Dove abiti?',\n",
       " 'Qual è la tua nazionalità?',\n",
       " 'Qual è il tuo numero di telefono?',\n",
       " 'Come si chiama il tuo migliore amico?',\n",
       " 'Ti piace la tua città?',\n",
       " 'Quante persone abitano nella Città del Messico?',\n",
       " 'Cosa c’è in la tua città?',\n",
       " 'Cosa sono i tuoi beni favoriti?',\n",
       " 'Qual e il tuo colore favorito?',\n",
       " 'Quale sono i tuoi programmi televisivi favoriti?',\n",
       " 'Quanti anni hai?',\n",
       " 'Hai fratelli?',\n",
       " 'Come si chiama il tuo padre e la tua madre?',\n",
       " 'Quanti anni hanno i toui familiari?',\n",
       " 'Che cosa fai?',\n",
       " 'Dove lavori?',\n",
       " 'Come arrivi al tuo lavoro?',\n",
       " 'A che hora ti svegli?',\n",
       " 'Ti fai la doccia a la matina o al pomeriggio?',\n",
       " \"C'e un codice d'abbigliamento nel tuo lavoro?\",\n",
       " 'Quanto tempo bisogni per verstirti?',\n",
       " 'A che hora prendi la prima colazione?',\n",
       " 'Cosa fai nel lavoro?',\n",
       " 'Cosa stai facendo nel lavoro?',\n",
       " 'Cosa fai nel tuo tempo libero?',\n",
       " 'Cosa fai prima di andare a letto?',\n",
       " 'A che hora vai a letto?']"
      ]
     },
     "execution_count": 10,
     "metadata": {},
     "output_type": "execute_result"
    }
   ],
   "source": [
    "domande_a1"
   ]
  },
  {
   "cell_type": "code",
   "execution_count": 11,
   "metadata": {
    "collapsed": true
   },
   "outputs": [],
   "source": [
    "numero_di_domanda = 0\n",
    "for domanda in domande_a1:\n",
    "    domanda = domanda\n",
    "    domanda_audio = gTTS(text = domanda, lang = language, slow = False)\n",
    "    domanda_audio.save('domanda_'+str(numero_di_domanda)+\".mp3\")\n",
    "    numero_di_domanda += 1"
   ]
  },
  {
   "cell_type": "code",
   "execution_count": null,
   "metadata": {
    "collapsed": true
   },
   "outputs": [],
   "source": []
  }
 ],
 "metadata": {
  "kernelspec": {
   "display_name": "Python 3",
   "language": "python",
   "name": "python3"
  },
  "language_info": {
   "codemirror_mode": {
    "name": "ipython",
    "version": 3
   },
   "file_extension": ".py",
   "mimetype": "text/x-python",
   "name": "python",
   "nbconvert_exporter": "python",
   "pygments_lexer": "ipython3",
   "version": "3.6.3"
  }
 },
 "nbformat": 4,
 "nbformat_minor": 2
}
